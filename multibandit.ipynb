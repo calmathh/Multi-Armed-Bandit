{
 "cells": [
  {
   "cell_type": "code",
   "execution_count": 1,
   "id": "0ab064ac-e6ce-4fc0-a61a-80a9baea6a5b",
   "metadata": {},
   "outputs": [],
   "source": [
    "import numpy as np\n",
    "\n",
    "    "
   ]
  },
  {
   "cell_type": "code",
   "execution_count": null,
   "id": "b0caebaf-2695-4b25-adf0-97d21e3eb0a0",
   "metadata": {},
   "outputs": [
    {
     "name": "stdin",
     "output_type": "stream",
     "text": [
      "choose your greed 0.1\n"
     ]
    }
   ],
   "source": [
    "#class MAB:\n",
    "#def distributions(sel\n",
    "#define the options put forward to the agent\n",
    "epsilon=float(input('choose your greed'))\n",
    "x=[]\n",
    "y=[]\n",
    "distributions=[{'type':'Gaussian','mean':2,'var':1},{'type':'fair coin toss','win':+5,'loss':-6},{'type':'poisson','mean':2},{'type':'Exponential','mean':3},{'type':'crazy'}]\n",
    "n_arms=5\n",
    "expected_avg=[0.0]*5\n",
    "pulled_counts=[0]*5\n",
    "eps_decay=(epsilon-0.001)/100\n",
    "def pull(arm):\n",
    "    dist=distributions[arm]\n",
    "    if dist['type']=='Gaussian':\n",
    "        reward=np.random.normal(dist['mean'],dist['var'])#if size not specied returns one value from array\n",
    "    elif dist['type']=='fair coin toss':\n",
    "        reward=np.random.choice([5,-6],p=[0.5,0.5])\n",
    "    elif dist['type']=='poisson':\n",
    "        reward=np.random.poisson(dist['mean'])\n",
    "    elif dist['type']=='Exponential':\n",
    "        reward=np.random.exponential(dist['mean'])\n",
    "    else:\n",
    "        arm=np.random.choice(5)\n",
    "        reward=pull(arm)\n",
    "    #return reward\n",
    "#def update(arm):\n",
    "    pulled_counts[arm]=pulled_counts[arm]+1\n",
    "    expected_avg[arm]=(expected_avg[arm]*(pulled_counts[arm]-1)+reward)/pulled_counts[arm]\n",
    "    return reward\n",
    "for scene in range(50):\n",
    "    scene_rewards=0\n",
    "    for episode in range(1000):\n",
    "        #total_rewards=0\n",
    "        for i in range(100):\n",
    "            epsilon=max(0.001,epsilon-i*eps_decay)\n",
    "            ch=np.random.random()\n",
    "            if ch<epsilon:\n",
    "                arm=np.random.randint(5)\n",
    "            else:\n",
    "                arm=np.argmax(expected_avg)\n",
    "            scene_rewards+=pull(arm)\n",
    "    x.append(scene)\n",
    "    y.append(scene_rewards)\n",
    "import matplotlib.pyplot as plt\n",
    "#keep=[x[0],x[100],x[200],x[500],x[800],x[900]]\n",
    "#keep_y=[y[0],y[100],y[200],y[500],y[800],y[900]]\n",
    "plt.plot(x,y)\n",
    "plt.show()\n",
    "\n",
    "\n",
    "        "
   ]
  },
  {
   "cell_type": "code",
   "execution_count": null,
   "id": "a23d7cf3-3b1d-4782-a2c1-5393f57baea7",
   "metadata": {},
   "outputs": [],
   "source": []
  },
  {
   "cell_type": "code",
   "execution_count": null,
   "id": "7d186695-3ebc-45b0-a8c3-3dbd9915a8e2",
   "metadata": {},
   "outputs": [],
   "source": []
  }
 ],
 "metadata": {
  "kernelspec": {
   "display_name": "Python 3 (ipykernel)",
   "language": "python",
   "name": "python3"
  },
  "language_info": {
   "codemirror_mode": {
    "name": "ipython",
    "version": 3
   },
   "file_extension": ".py",
   "mimetype": "text/x-python",
   "name": "python",
   "nbconvert_exporter": "python",
   "pygments_lexer": "ipython3",
   "version": "3.11.7"
  }
 },
 "nbformat": 4,
 "nbformat_minor": 5
}
